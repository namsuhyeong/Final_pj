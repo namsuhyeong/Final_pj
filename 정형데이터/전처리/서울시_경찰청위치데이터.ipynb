{
 "cells": [
  {
   "cell_type": "code",
   "execution_count": 1,
   "metadata": {},
   "outputs": [],
   "source": [
    "import pandas as pd\n",
    "import numpy as np\n",
    "import matplotlib.pyplot as plt\n",
    "plt.rcParams['font.family'] ='Malgun Gothic'\n",
    "plt.rcParams['axes.unicode_minus'] =False\n",
    "import seaborn as sns\n",
    "import warnings\n",
    "warnings.filterwarnings('ignore')"
   ]
  },
  {
   "cell_type": "code",
   "execution_count": 10,
   "metadata": {},
   "outputs": [],
   "source": [
    "# 데이터 불러오기\n",
    "raw = pd.read_csv('../../final_프젝_데이터/경찰청_경찰관서 위치 주소 현황_20230811.csv',encoding='cp949')"
   ]
  },
  {
   "cell_type": "code",
   "execution_count": 12,
   "metadata": {},
   "outputs": [],
   "source": [
    "df = raw.copy()"
   ]
  },
  {
   "cell_type": "code",
   "execution_count": 14,
   "metadata": {},
   "outputs": [
    {
     "data": {
      "text/html": [
       "<div>\n",
       "<style scoped>\n",
       "    .dataframe tbody tr th:only-of-type {\n",
       "        vertical-align: middle;\n",
       "    }\n",
       "\n",
       "    .dataframe tbody tr th {\n",
       "        vertical-align: top;\n",
       "    }\n",
       "\n",
       "    .dataframe thead th {\n",
       "        text-align: right;\n",
       "    }\n",
       "</style>\n",
       "<table border=\"1\" class=\"dataframe\">\n",
       "  <thead>\n",
       "    <tr style=\"text-align: right;\">\n",
       "      <th></th>\n",
       "      <th>연번</th>\n",
       "      <th>시도청</th>\n",
       "      <th>경찰서</th>\n",
       "      <th>관서명</th>\n",
       "      <th>구분</th>\n",
       "      <th>전화번호</th>\n",
       "      <th>주소</th>\n",
       "    </tr>\n",
       "  </thead>\n",
       "  <tbody>\n",
       "    <tr>\n",
       "      <th>0</th>\n",
       "      <td>1</td>\n",
       "      <td>서울청</td>\n",
       "      <td>서울중부</td>\n",
       "      <td>을지</td>\n",
       "      <td>지구대</td>\n",
       "      <td>02-2279-1908</td>\n",
       "      <td>서울특별시 중구  을지로 234</td>\n",
       "    </tr>\n",
       "    <tr>\n",
       "      <th>1</th>\n",
       "      <td>2</td>\n",
       "      <td>서울청</td>\n",
       "      <td>서울중부</td>\n",
       "      <td>광희</td>\n",
       "      <td>지구대</td>\n",
       "      <td>02-2233-1444</td>\n",
       "      <td>서울특별시 중구  퇴계로 375-1</td>\n",
       "    </tr>\n",
       "    <tr>\n",
       "      <th>2</th>\n",
       "      <td>3</td>\n",
       "      <td>서울청</td>\n",
       "      <td>서울중부</td>\n",
       "      <td>약수</td>\n",
       "      <td>지구대</td>\n",
       "      <td>02-2234-8112</td>\n",
       "      <td>서울특별시 중구  동호로 5길 15, 약수지구대</td>\n",
       "    </tr>\n",
       "    <tr>\n",
       "      <th>3</th>\n",
       "      <td>4</td>\n",
       "      <td>서울청</td>\n",
       "      <td>서울중부</td>\n",
       "      <td>신당</td>\n",
       "      <td>파출소</td>\n",
       "      <td>02-2252-0435</td>\n",
       "      <td>서울특별시 중구  다산로 248 (신당동, 신당파출소)</td>\n",
       "    </tr>\n",
       "    <tr>\n",
       "      <th>4</th>\n",
       "      <td>5</td>\n",
       "      <td>서울청</td>\n",
       "      <td>서울중부</td>\n",
       "      <td>장충</td>\n",
       "      <td>파출소</td>\n",
       "      <td>02-2274-9003</td>\n",
       "      <td>서울특별시 중구  동호로 261</td>\n",
       "    </tr>\n",
       "  </tbody>\n",
       "</table>\n",
       "</div>"
      ],
      "text/plain": [
       "   연번  시도청   경찰서 관서명   구분          전화번호                              주소\n",
       "0   1  서울청  서울중부  을지  지구대  02-2279-1908               서울특별시 중구  을지로 234\n",
       "1   2  서울청  서울중부  광희  지구대  02-2233-1444             서울특별시 중구  퇴계로 375-1\n",
       "2   3  서울청  서울중부  약수  지구대  02-2234-8112      서울특별시 중구  동호로 5길 15, 약수지구대\n",
       "3   4  서울청  서울중부  신당  파출소  02-2252-0435  서울특별시 중구  다산로 248 (신당동, 신당파출소)\n",
       "4   5  서울청  서울중부  장충  파출소  02-2274-9003               서울특별시 중구  동호로 261"
      ]
     },
     "execution_count": 14,
     "metadata": {},
     "output_type": "execute_result"
    }
   ],
   "source": [
    "df.head()"
   ]
  },
  {
   "cell_type": "code",
   "execution_count": 13,
   "metadata": {},
   "outputs": [
    {
     "name": "stdout",
     "output_type": "stream",
     "text": [
      "<class 'pandas.core.frame.DataFrame'>\n",
      "RangeIndex: 2051 entries, 0 to 2050\n",
      "Data columns (total 7 columns):\n",
      " #   Column  Non-Null Count  Dtype \n",
      "---  ------  --------------  ----- \n",
      " 0   연번      2051 non-null   int64 \n",
      " 1   시도청     2051 non-null   object\n",
      " 2   경찰서     2051 non-null   object\n",
      " 3   관서명     2051 non-null   object\n",
      " 4   구분      2051 non-null   object\n",
      " 5   전화번호    2049 non-null   object\n",
      " 6   주소      2049 non-null   object\n",
      "dtypes: int64(1), object(6)\n",
      "memory usage: 112.3+ KB\n"
     ]
    }
   ],
   "source": [
    "df.info()"
   ]
  },
  {
   "cell_type": "code",
   "execution_count": 16,
   "metadata": {},
   "outputs": [],
   "source": [
    "# 시도청이 '서울청'인 행만 남기기\n",
    "df = df[df['시도청']=='서울청']"
   ]
  },
  {
   "cell_type": "code",
   "execution_count": 18,
   "metadata": {},
   "outputs": [
    {
     "data": {
      "text/html": [
       "<div>\n",
       "<style scoped>\n",
       "    .dataframe tbody tr th:only-of-type {\n",
       "        vertical-align: middle;\n",
       "    }\n",
       "\n",
       "    .dataframe tbody tr th {\n",
       "        vertical-align: top;\n",
       "    }\n",
       "\n",
       "    .dataframe thead th {\n",
       "        text-align: right;\n",
       "    }\n",
       "</style>\n",
       "<table border=\"1\" class=\"dataframe\">\n",
       "  <thead>\n",
       "    <tr style=\"text-align: right;\">\n",
       "      <th></th>\n",
       "      <th>연번</th>\n",
       "      <th>시도청</th>\n",
       "      <th>경찰서</th>\n",
       "      <th>관서명</th>\n",
       "      <th>구분</th>\n",
       "      <th>전화번호</th>\n",
       "      <th>주소</th>\n",
       "    </tr>\n",
       "  </thead>\n",
       "  <tbody>\n",
       "    <tr>\n",
       "      <th>238</th>\n",
       "      <td>239</td>\n",
       "      <td>서울청</td>\n",
       "      <td>서울수서</td>\n",
       "      <td>대치</td>\n",
       "      <td>지구대</td>\n",
       "      <td>02-538-1312</td>\n",
       "      <td>서울특별시 강남구  삼성로 203</td>\n",
       "    </tr>\n",
       "    <tr>\n",
       "      <th>239</th>\n",
       "      <td>240</td>\n",
       "      <td>서울청</td>\n",
       "      <td>서울수서</td>\n",
       "      <td>수서</td>\n",
       "      <td>파출소</td>\n",
       "      <td>02-445-0112</td>\n",
       "      <td>서울특별시 강남구  밤고개로1길 48</td>\n",
       "    </tr>\n",
       "    <tr>\n",
       "      <th>240</th>\n",
       "      <td>241</td>\n",
       "      <td>서울청</td>\n",
       "      <td>서울수서</td>\n",
       "      <td>대왕</td>\n",
       "      <td>파출소</td>\n",
       "      <td>02-3411-0323</td>\n",
       "      <td>서울특별시 강남구  헌릉로 623</td>\n",
       "    </tr>\n",
       "    <tr>\n",
       "      <th>241</th>\n",
       "      <td>242</td>\n",
       "      <td>서울청</td>\n",
       "      <td>서울수서</td>\n",
       "      <td>일원</td>\n",
       "      <td>지구대</td>\n",
       "      <td>02-3411-0112</td>\n",
       "      <td>서울특별시 강남구  일원로3길 35 일원파출소</td>\n",
       "    </tr>\n",
       "    <tr>\n",
       "      <th>242</th>\n",
       "      <td>243</td>\n",
       "      <td>서울청</td>\n",
       "      <td>서울수서</td>\n",
       "      <td>개포</td>\n",
       "      <td>지구대</td>\n",
       "      <td>02-571-0112</td>\n",
       "      <td>서울특별시 강남구  개포로 261(1268)</td>\n",
       "    </tr>\n",
       "  </tbody>\n",
       "</table>\n",
       "</div>"
      ],
      "text/plain": [
       "      연번  시도청   경찰서 관서명   구분          전화번호                         주소\n",
       "238  239  서울청  서울수서  대치  지구대   02-538-1312         서울특별시 강남구  삼성로 203\n",
       "239  240  서울청  서울수서  수서  파출소   02-445-0112       서울특별시 강남구  밤고개로1길 48\n",
       "240  241  서울청  서울수서  대왕  파출소  02-3411-0323         서울특별시 강남구  헌릉로 623\n",
       "241  242  서울청  서울수서  일원  지구대  02-3411-0112  서울특별시 강남구  일원로3길 35 일원파출소\n",
       "242  243  서울청  서울수서  개포  지구대   02-571-0112   서울특별시 강남구  개포로 261(1268)"
      ]
     },
     "execution_count": 18,
     "metadata": {},
     "output_type": "execute_result"
    }
   ],
   "source": [
    "df.tail()"
   ]
  },
  {
   "cell_type": "code",
   "execution_count": 19,
   "metadata": {},
   "outputs": [],
   "source": [
    "df.to_csv('서울시_경찰청위치데이터.csv',encoding='utf-8')"
   ]
  },
  {
   "cell_type": "code",
   "execution_count": null,
   "metadata": {},
   "outputs": [],
   "source": []
  }
 ],
 "metadata": {
  "kernelspec": {
   "display_name": "malcam",
   "language": "python",
   "name": "malcam"
  },
  "language_info": {
   "codemirror_mode": {
    "name": "ipython",
    "version": 3
   },
   "file_extension": ".py",
   "mimetype": "text/x-python",
   "name": "python",
   "nbconvert_exporter": "python",
   "pygments_lexer": "ipython3",
   "version": "3.10.14"
  }
 },
 "nbformat": 4,
 "nbformat_minor": 2
}
